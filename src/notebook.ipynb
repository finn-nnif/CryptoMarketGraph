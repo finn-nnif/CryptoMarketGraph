{
 "cells": [
  {
   "cell_type": "code",
   "execution_count": null,
   "id": "d686d521",
   "metadata": {},
   "outputs": [],
   "source": [
    "import matplotlib.pyplot as plt\n",
    "import seaborn as sns"
   ]
  },
  {
   "cell_type": "code",
   "execution_count": null,
   "id": "4ebbc057",
   "metadata": {},
   "outputs": [],
   "source": [
    "def plot_histogram(df, column, bins=30):\n",
    "    plt.figure(figsize=(10,6))\n",
    "    sns.histplot(df[column], bins=bins, kde=True)\n",
    "    plt.title(f'Histogram of {column}')\n",
    "    plt.show()"
   ]
  }
 ],
 "metadata": {
  "kernelspec": {
   "display_name": "venv",
   "language": "python",
   "name": "python3"
  },
  "language_info": {
   "name": "python",
   "version": "3.13.7"
  }
 },
 "nbformat": 4,
 "nbformat_minor": 5
}
